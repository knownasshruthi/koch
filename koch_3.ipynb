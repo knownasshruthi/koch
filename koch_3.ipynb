{
  "nbformat": 4,
  "nbformat_minor": 0,
  "metadata": {
    "colab": {
      "name": "Stage_0_Janet",
      "provenance": [],
      "collapsed_sections": []
    },
    "kernelspec": {
      "name": "python3",
      "display_name": "Python 3"
    },
    "language_info": {
      "name": "python"
    }
  },
  "cells": [
    {
      "cell_type": "code",
      "metadata": {
        "id": "SC0iYfiDD6X3"
      },
      "source": [
        "name = (\"Janet Nivedha. D\")"
      ],
      "execution_count": 70,
      "outputs": []
    },
    {
      "cell_type": "code",
      "metadata": {
        "id": "twUCb21KEnH9"
      },
      "source": [
        "email = (\"janetnivedha97@gmail.com\")"
      ],
      "execution_count": 71,
      "outputs": []
    },
    {
      "cell_type": "code",
      "metadata": {
        "id": "7ufuAeEnErFT"
      },
      "source": [
        "slackusername = (\"@JanetNivedha\")"
      ],
      "execution_count": 72,
      "outputs": []
    },
    {
      "cell_type": "code",
      "metadata": {
        "id": "2eHWXg3p9dI0"
      },
      "source": [
        "biostack = (\"Drug development\")"
      ],
      "execution_count": 73,
      "outputs": []
    },
    {
      "cell_type": "code",
      "metadata": {
        "id": "SGWOaMLb98zp"
      },
      "source": [
        "twitter_handle = (\"JanetNivedha\")"
      ],
      "execution_count": 74,
      "outputs": []
    },
    {
      "cell_type": "code",
      "metadata": {
        "id": "vPJ8sgy6DhK3"
      },
      "source": [
        "hamming_distance = (\"0\")"
      ],
      "execution_count": 75,
      "outputs": []
    },
    {
      "cell_type": "code",
      "metadata": {
        "colab": {
          "base_uri": "https://localhost:8080/"
        },
        "id": "SqUlbvCbEv5b",
        "outputId": "b2d8dd77-fe13-4029-c368-18bb1e5a4f7a"
      },
      "source": [
        "print ( name, email, slackusername, biostack, twitter_handle, hamming_distance, sep = \"\\n\" )"
      ],
      "execution_count": 76,
      "outputs": [
        {
          "output_type": "stream",
          "text": [
            "Janet Nivedha. D\n",
            "janetnivedha97@gmail.com\n",
            "@JanetNivedha\n",
            "Drug development\n",
            "JanetNivedha\n",
            "0\n"
          ],
          "name": "stdout"
        }
      ]
    }
  ]
}
