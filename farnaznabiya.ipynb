{
  "nbformat": 4,
  "nbformat_minor": 0,
  "metadata": {
    "colab": {
      "name": "Untitled1.ipynb",
      "provenance": [],
      "collapsed_sections": []
    },
    "kernelspec": {
      "name": "python3",
      "display_name": "Python 3"
    },
    "language_info": {
      "name": "python"
    }
  },
  "cells": [
    {
      "cell_type": "code",
      "metadata": {
        "id": "8MIlnWPYWXSs"
      },
      "source": [
        "Name = (\"Farnaz Nabiya\")"
      ],
      "execution_count": 20,
      "outputs": []
    },
    {
      "cell_type": "code",
      "metadata": {
        "id": "AFhXpRiCWX4m"
      },
      "source": [
        "Email = (\"nabiyafarnaz@gmail.com\")"
      ],
      "execution_count": 19,
      "outputs": []
    },
    {
      "cell_type": "code",
      "metadata": {
        "id": "jSK0-8CJDSYp"
      },
      "source": [
        "Twitter_Handle = (\"@Farnaz Nabiya\")"
      ],
      "execution_count": 18,
      "outputs": []
    },
    {
      "cell_type": "code",
      "metadata": {
        "id": "6ybLTzjIWllL"
      },
      "source": [
        "Slack_username = (\"@FarnazNabiya\")"
      ],
      "execution_count": 17,
      "outputs": []
    },
    {
      "cell_type": "code",
      "metadata": {
        "id": "qnLa4D3pGEyj"
      },
      "source": [
        "Hamming_distance = (\"0\")"
      ],
      "execution_count": 22,
      "outputs": []
    },
    {
      "cell_type": "code",
      "metadata": {
        "id": "M0cIx1dwWxPr"
      },
      "source": [
        "Biostack = (\"Drug Development\")"
      ],
      "execution_count": 21,
      "outputs": []
    },
    {
      "cell_type": "code",
      "metadata": {
        "colab": {
          "base_uri": "https://localhost:8080/"
        },
        "id": "q_6BvOjfEHyU",
        "outputId": "1b6d4454-fccf-4590-b183-b39d6700b9c7"
      },
      "source": [
        "print ( Name, Email, Twitter_Handle, Slack_username, Hamming_distance, Biostack, sep = \"\\n\") "
      ],
      "execution_count": 23,
      "outputs": [
        {
          "output_type": "stream",
          "text": [
            "Farnaz Nabiya\n",
            "nabiyafarnaz@gmail.com\n",
            "@Farnaz Nabiya\n",
            "@FarnazNabiya\n",
            "0\n",
            "Drug Development\n"
          ],
          "name": "stdout"
        }
      ]
    }
  ]
}